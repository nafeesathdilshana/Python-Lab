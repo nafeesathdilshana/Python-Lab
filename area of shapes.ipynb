{
 "cells": [
  {
   "cell_type": "code",
   "execution_count": 5,
   "id": "b2994506",
   "metadata": {},
   "outputs": [
    {
     "name": "stdout",
     "output_type": "stream",
     "text": [
      "enter a the value:2\n",
      "the radius of circle: 9.8596\n"
     ]
    }
   ],
   "source": [
    "rad=float(input(\"enter a the value:\"))\n",
    "circ_area=3.14**rad\n",
    "print(\"the radius of circle:\",circ_area)"
   ]
  },
  {
   "cell_type": "code",
   "execution_count": 10,
   "id": "134d2758",
   "metadata": {},
   "outputs": [
    {
     "name": "stdout",
     "output_type": "stream",
     "text": [
      "enter the base:2\n",
      "enter the height:3\n",
      "the area of triangle: 3.0\n"
     ]
    }
   ],
   "source": [
    "b=float(input(\"enter the base:\"))\n",
    "h=float(input(\"enter the height:\"))\n",
    "tri_area=0.5*b*h\n",
    "print(\"the area of triangle:\",tri_area)"
   ]
  },
  {
   "cell_type": "code",
   "execution_count": 7,
   "id": "a4ca4ee9",
   "metadata": {},
   "outputs": [
    {
     "name": "stdout",
     "output_type": "stream",
     "text": [
      "enter the length:2\n",
      "enter the breadth: 3\n",
      "the area of rectangle: 6.0\n"
     ]
    }
   ],
   "source": [
    "l=float(input(\"enter the length:\"))\n",
    "b=float(input(\"enter the breadth: \"))\n",
    "rec_area=l*b\n",
    "print(\"the area of rectangle:\",rec_area)"
   ]
  },
  {
   "cell_type": "code",
   "execution_count": 1,
   "id": "48fa4fa1",
   "metadata": {},
   "outputs": [
    {
     "name": "stdout",
     "output_type": "stream",
     "text": [
      "enter the length:3\n",
      "enter the breadth: 3\n",
      "the perimetere of rectangle: 12.0\n"
     ]
    }
   ],
   "source": [
    "#perimeter of rectangle\n",
    "l=float(input(\"enter the length:\"))\n",
    "b=float(input(\"enter the breadth: \"))\n",
    "rec_peri=2*(l+b)\n",
    "print(\"the perimetere of rectangle:\",rec_peri)"
   ]
  },
  {
   "cell_type": "code",
   "execution_count": 3,
   "id": "4f02c63c",
   "metadata": {},
   "outputs": [
    {
     "name": "stdout",
     "output_type": "stream",
     "text": [
      "enter the a value:3\n",
      "enter the b value:3\n",
      "enter the c value:3\n",
      "the perimeter of triangle: 27.0\n"
     ]
    }
   ],
   "source": [
    "#perimeter of triangle\n",
    "a=float(input(\"enter the a value:\"))\n",
    "b=float(input(\"enter the b value:\"))\n",
    "c=float(input(\"enter the c value:\"))\n",
    "tri_peri=a*b*c\n",
    "print(\"the perimeter of triangle:\",tri_peri)"
   ]
  },
  {
   "cell_type": "code",
   "execution_count": 4,
   "id": "02d0c8c8",
   "metadata": {},
   "outputs": [
    {
     "name": "stdout",
     "output_type": "stream",
     "text": [
      "enter a the value:2\n",
      "the perimeter of circle: 12.56\n"
     ]
    }
   ],
   "source": [
    "#perimeter of circle\n",
    "r=float(input(\"enter a the value:\"))\n",
    "circ_peri=2*3.14*r\n",
    "print(\"the perimeter of circle:\",circ_peri)"
   ]
  },
  {
   "cell_type": "code",
   "execution_count": 5,
   "id": "67f58b42",
   "metadata": {},
   "outputs": [],
   "source": [
    "def area_circle(r):\n",
    "    r=float(input(\"enter the radius:\"))\n",
    "    c_area=3.14**r\n",
    "    print(\"the area of circle:\",c_area)\n",
    "def area_tri(b,h):\n",
    "    b=float(input(\"enter the base:\"))\n",
    "    h=float(input(\"enter the height:\"))\n",
    "    tri_area=0.5*b*h\n",
    "    print(\"the area of triangle:\",tri_area)\n",
    "def area_rect(l,b):\n",
    "    l=float(input(\"enter the length:\"))\n",
    "    b=float(input(\"enter the breadth: \"))\n",
    "    rec_area=l*b\n",
    "    print(\"the area of rectangle:\",rec_area)\n",
    "    "
   ]
  },
  {
   "cell_type": "code",
   "execution_count": null,
   "id": "1a9f59e8",
   "metadata": {},
   "outputs": [],
   "source": []
  }
 ],
 "metadata": {
  "kernelspec": {
   "display_name": "Python 3 (ipykernel)",
   "language": "python",
   "name": "python3"
  },
  "language_info": {
   "codemirror_mode": {
    "name": "ipython",
    "version": 3
   },
   "file_extension": ".py",
   "mimetype": "text/x-python",
   "name": "python",
   "nbconvert_exporter": "python",
   "pygments_lexer": "ipython3",
   "version": "3.9.7"
  }
 },
 "nbformat": 4,
 "nbformat_minor": 5
}

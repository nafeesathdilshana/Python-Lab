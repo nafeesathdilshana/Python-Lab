{
 "cells": [
  {
   "cell_type": "code",
   "execution_count": 27,
   "id": "9a1cebf5",
   "metadata": {},
   "outputs": [
    {
     "name": "stdout",
     "output_type": "stream",
     "text": [
      "Enter a number : 5\n",
      "list of natural numbers from 5 to 1 in reverse order:\n",
      "5 4 3 2 1 "
     ]
    }
   ],
   "source": [
    "n = int(input('Enter a number : '))\n",
    "i = n\n",
    "print(\"list of natural numbers from {0} to 1 in reverse order:\".format(n))\n",
    "while i>=1:\n",
    "    print(i,end=\" \")\n",
    "    i=i-1\n",
    "\n",
    "    \n",
    "\n",
    "    "
   ]
  },
  {
   "cell_type": "code",
   "execution_count": 28,
   "id": "7adcfd6e",
   "metadata": {},
   "outputs": [
    {
     "name": "stdout",
     "output_type": "stream",
     "text": [
      "enter a number:5\n",
      "the sum of numbers 15\n"
     ]
    }
   ],
   "source": [
    "n=int(input(\"enter a number:\"))\n",
    "sum1=0\n",
    "while n>0:\n",
    "    sum1=sum1 + n\n",
    "    n=n-1\n",
    "print(\"the sum of numbers\",sum1)"
   ]
  },
  {
   "cell_type": "code",
   "execution_count": 29,
   "id": "c8180944",
   "metadata": {},
   "outputs": [
    {
     "name": "stdout",
     "output_type": "stream",
     "text": [
      "enter a number:5\n",
      "fibonacci series is:01123"
     ]
    }
   ],
   "source": [
    "n=int(input(\"enter a number:\"))\n",
    "a=0\n",
    "b=1\n",
    "sum=a+b\n",
    "count=1\n",
    "print(\"fibonacci series is:\",end=\"\")\n",
    "while(count <=n):\n",
    "    count+=1\n",
    "    print(a,end=\"\")\n",
    "    a=b\n",
    "    b=sum\n",
    "    sum=a+b"
   ]
  },
  {
   "cell_type": "code",
   "execution_count": 31,
   "id": "7f218670",
   "metadata": {},
   "outputs": [
    {
     "name": "stdout",
     "output_type": "stream",
     "text": [
      "enter a number:5\n",
      "\n",
      "factorial= 120\n"
     ]
    }
   ],
   "source": [
    "n=int(input(\"enter a number:\"))\n",
    "fact=1\n",
    "i=1\n",
    "while i<=n:\n",
    "    fact=fact*i\n",
    "    i=i+1\n",
    "print(\"\\nfactorial=\",fact)"
   ]
  },
  {
   "cell_type": "code",
   "execution_count": null,
   "id": "daa44f16",
   "metadata": {},
   "outputs": [],
   "source": []
  }
 ],
 "metadata": {
  "kernelspec": {
   "display_name": "Python 3 (ipykernel)",
   "language": "python",
   "name": "python3"
  },
  "language_info": {
   "codemirror_mode": {
    "name": "ipython",
    "version": 3
   },
   "file_extension": ".py",
   "mimetype": "text/x-python",
   "name": "python",
   "nbconvert_exporter": "python",
   "pygments_lexer": "ipython3",
   "version": "3.9.7"
  }
 },
 "nbformat": 4,
 "nbformat_minor": 5
}

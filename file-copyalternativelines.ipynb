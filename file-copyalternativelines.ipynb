{
 "cells": [
  {
   "cell_type": "code",
   "execution_count": 1,
   "id": "30bdcb6b",
   "metadata": {},
   "outputs": [
    {
     "name": "stdout",
     "output_type": "stream",
     "text": [
      "['My fellow citizens:I stand here today humbled by the task before us, grateful for the trust you have bestowed, mindful of the sacrifices borne by our ancestors. \\n', 'I thank President Bush for his service to our nation, as well as the generosity and cooperation he has shown throughout this transition.\\n', 'Forty-four Americans have now taken the presidential oath.\\n', 'The words have been spoken during rising tides of prosperity and the still waters of peace. \\n', 'Yet, every so often the oath is taken amidst gathering clouds and raging storms. \\n', 'At these moments, America has carried on not simply because of the skill or vision of those in high office, but because We the People have remained faithful to the ideals of our forbearers, and true to our founding documents.\\n', 'So it has been. \\n', 'So it must be with this generation of Americans.\\n', 'That we are in the midst of crisis is now well understood. Our nation is at war, against a far-reaching network of violence and hatred. \\n', 'Our economy is badly weakened, a consequence of greed and irresponsibility on the part of some, but also our collective failure to make hard choices and prepare the nation for a new age.\\n', 'Homes have been lost; jobs shed; businesses shuttered. Our health care is too costly; our schools fail too many; and each day brings further evidence that the ways we use energy strengthen our adversaries and threaten our planet.']\n",
      "Alternative lines copied from f1 to f2 successfully\n",
      "\n",
      "Odd numbered lines copied successfully*\n",
      "\n",
      "My fellow citizens:I stand here today humbled by the task before us, grateful for the trust you have bestowed, mindful of the sacrifices borne by our ancestors. \n",
      "\n",
      "Forty-four Americans have now taken the presidential oath.\n",
      "\n",
      "Yet, every so often the oath is taken amidst gathering clouds and raging storms. \n",
      "\n",
      "So it has been. \n",
      "\n",
      "That we are in the midst of crisis is now well understood. Our nation is at war, against a far-reaching network of violence and hatred. \n",
      "\n",
      "Homes have been lost; jobs shed; businesses shuttered. Our health care is too costly; our schools fail too many; and each day brings further evidence that the ways we use energy strengthen our adversaries and threaten our planet.\n"
     ]
    }
   ],
   "source": [
    "#Write a function that reads a file file1 and copies only alternative lines to another file file2. Alternative lines copied should be the odd numbered lines. Use Exceptions.\n",
    "try:\n",
    "    with open(\"file1.txt\",'r') as f1,open(\"file2.txt\",'w') as f2:\n",
    "        f=f1.readlines()\n",
    "        print(f)\n",
    "        odd_lines=f[::2]\n",
    "        f2.writelines(odd_lines)\n",
    "    print(\"Alternative lines copied from f1 to f2 successfully\\n\")\n",
    "except:\n",
    "        print(\"Error: File f1 not found.\")\n",
    "else:\n",
    "        print(\"Odd numbered lines copied successfully*\\n\")\n",
    "        with open(\"file2.txt\",'r') as f3:\n",
    "            for line in f3:\n",
    "                print(line)"
   ]
  },
  {
   "cell_type": "code",
   "execution_count": null,
   "id": "04841dd9",
   "metadata": {},
   "outputs": [],
   "source": []
  }
 ],
 "metadata": {
  "kernelspec": {
   "display_name": "Python 3 (ipykernel)",
   "language": "python",
   "name": "python3"
  },
  "language_info": {
   "codemirror_mode": {
    "name": "ipython",
    "version": 3
   },
   "file_extension": ".py",
   "mimetype": "text/x-python",
   "name": "python",
   "nbconvert_exporter": "python",
   "pygments_lexer": "ipython3",
   "version": "3.9.7"
  }
 },
 "nbformat": 4,
 "nbformat_minor": 5
}

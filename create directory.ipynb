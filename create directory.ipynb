{
 "cells": [
  {
   "cell_type": "code",
   "execution_count": null,
   "id": "c91d601b",
   "metadata": {},
   "outputs": [],
   "source": [
    "#create folder in jupiter\n",
    "#and copya file which is inside a folder\n",
    "#create directory\n",
    "import os\n",
    "import shutil\n",
    "while(1):\n",
    "    print(\"1.Get the current working directory:\")\n",
    "    print(\"2.List all the files and directories in current directory\")\n",
    "    print(\"3.Create a new directory\")\n",
    "    print(\"4.Verify if the new directory has been created\")\n",
    "    print(\"5.Copy a file into directory\")\n",
    "    ch=int(input(\"Enter your choice:\"))\n",
    "    if ch==1:\n",
    "        print(\"Current working directoy is \",os.getcwd())\n",
    "    elif ch==2:\n",
    "        print(\"All the files and directories in current working directory are \",os.listdir(os.curdir))\n",
    "    elif ch==3:\n",
    "        directory=input(\"Enter the name of the directory to be created: \")\n",
    "        os.mkdir(directory)\n",
    "        print(\"Directory created!!\",directory)\n",
    "    elif ch==4:\n",
    "        exist=os.path.exists(directory)\n",
    "        print(exist)\n",
    "    elif ch==5:\n",
    "        src_path=input(\"Enter the name of the file to be created: \")\n",
    "        if shutil.copy(src_path,directory):\n",
    "            print(\"File copied\")\n",
    "        else:\n",
    "            print(\"Cannot copy\")\n",
    "    elif ch==6:\n",
    "        break    \n",
    "    else:\n",
    "        print(\"Invalid choice\")\n"
   ]
  }
 ],
 "metadata": {
  "kernelspec": {
   "display_name": "Python 3 (ipykernel)",
   "language": "python",
   "name": "python3"
  },
  "language_info": {
   "codemirror_mode": {
    "name": "ipython",
    "version": 3
   },
   "file_extension": ".py",
   "mimetype": "text/x-python",
   "name": "python",
   "nbconvert_exporter": "python",
   "pygments_lexer": "ipython3",
   "version": "3.9.7"
  }
 },
 "nbformat": 4,
 "nbformat_minor": 5
}

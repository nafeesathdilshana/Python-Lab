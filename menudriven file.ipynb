{
 "cells": [
  {
   "cell_type": "code",
   "execution_count": null,
   "id": "026204bf",
   "metadata": {},
   "outputs": [
    {
     "name": "stdout",
     "output_type": "stream",
     "text": [
      "MENU DRIVEN PROGRAM\n",
      "1. LOAD THE FILE FROM EXTERNAL MEMORY\n",
      "2. DISPLAY THE CONTENTS OF THE FILE USING WITH KEYWORD\n",
      "3. RENAME THE FILE\n",
      "4. DELETE THE FILE\n",
      "ENTER YOUR CHOICE: 1\n",
      "File opened successfully\n",
      "MENU DRIVEN PROGRAM\n",
      "1. LOAD THE FILE FROM EXTERNAL MEMORY\n",
      "2. DISPLAY THE CONTENTS OF THE FILE USING WITH KEYWORD\n",
      "3. RENAME THE FILE\n",
      "4. DELETE THE FILE\n",
      "ENTER YOUR CHOICE: 2\n",
      "HELLO\n",
      "\n",
      "HOWAREYOU?\n",
      "\n",
      "MENU DRIVEN PROGRAM\n",
      "1. LOAD THE FILE FROM EXTERNAL MEMORY\n",
      "2. DISPLAY THE CONTENTS OF THE FILE USING WITH KEYWORD\n",
      "3. RENAME THE FILE\n",
      "4. DELETE THE FILE\n",
      "ENTER YOUR CHOICE: 3\n",
      "File renamed\n",
      "MENU DRIVEN PROGRAM\n",
      "1. LOAD THE FILE FROM EXTERNAL MEMORY\n",
      "2. DISPLAY THE CONTENTS OF THE FILE USING WITH KEYWORD\n",
      "3. RENAME THE FILE\n",
      "4. DELETE THE FILE\n",
      "ENTER YOUR CHOICE: 4\n",
      "File removed successfully\n",
      "MENU DRIVEN PROGRAM\n",
      "1. LOAD THE FILE FROM EXTERNAL MEMORY\n",
      "2. DISPLAY THE CONTENTS OF THE FILE USING WITH KEYWORD\n",
      "3. RENAME THE FILE\n",
      "4. DELETE THE FILE\n"
     ]
    }
   ],
   "source": [
    "import sys\n",
    "import os\n",
    "while(1):\n",
    "    print(\"MENU DRIVEN PROGRAM\")\n",
    "    print(\"1. LOAD THE FILE FROM EXTERNAL MEMORY\")\n",
    "    print(\"2. DISPLAY THE CONTENTS OF THE FILE USING WITH KEYWORD\")\n",
    "    print(\"3. RENAME THE FILE\")\n",
    "    print(\"4. DELETE THE FILE\")\n",
    "    ch=int(input(\"ENTER YOUR CHOICE: \"))\n",
    "    if ch==1:\n",
    "        try:\n",
    "            path=os.path.abspath(\"sample.txt\")\n",
    "            sys.path.append(path)\n",
    "        except:\n",
    "            print(\"File doesnot exist\")\n",
    "        else:\n",
    "            print(\"File opened successfully\")\n",
    "    elif ch==2:\n",
    "          with open(\"abc.txt\",\"r\") as f:\n",
    "                for each in f:\n",
    "                    print(each)\n",
    "    elif ch==3:\n",
    "        try:\n",
    "            os.rename(\"even n odd.ipynb\",\"even and odd.ipynb\")\n",
    "        except:\n",
    "            print(\"File not found\")\n",
    "        else:\n",
    "            print(\"File renamed\")\n",
    "    elif ch==4:\n",
    "        try:\n",
    "            os.remove(\"Untitled.ipynb\")\n",
    "        except:\n",
    "            print(\"File doesnot exist\")\n",
    "        else:\n",
    "            print(\"File removed successfully\")\n",
    "    else:\n",
    "        print(\"Invalid choice\")"
   ]
  },
  {
   "cell_type": "code",
   "execution_count": null,
   "id": "1ea9ec3f",
   "metadata": {},
   "outputs": [],
   "source": []
  }
 ],
 "metadata": {
  "kernelspec": {
   "display_name": "Python 3 (ipykernel)",
   "language": "python",
   "name": "python3"
  },
  "language_info": {
   "codemirror_mode": {
    "name": "ipython",
    "version": 3
   },
   "file_extension": ".py",
   "mimetype": "text/x-python",
   "name": "python",
   "nbconvert_exporter": "python",
   "pygments_lexer": "ipython3",
   "version": "3.9.7"
  }
 },
 "nbformat": 4,
 "nbformat_minor": 5
}

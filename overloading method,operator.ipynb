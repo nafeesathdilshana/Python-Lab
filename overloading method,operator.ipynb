{
 "cells": [
  {
   "cell_type": "code",
   "execution_count": 10,
   "id": "937afb1b",
   "metadata": {},
   "outputs": [
    {
     "name": "stdout",
     "output_type": "stream",
     "text": [
      "6\n",
      "19.599999999999998\n",
      "MscComputerscience\n",
      "9.1\n"
     ]
    }
   ],
   "source": [
    "from multipledispatch import dispatch\n",
    "@dispatch(int,int)\n",
    "def product(first,second):\n",
    "    result=first*second\n",
    "    print(result)\n",
    "@dispatch(float,float,float)\n",
    "def product(first,second,third):\n",
    "    result=first*second*third\n",
    "    print(result)\n",
    "@dispatch(str,str)\n",
    "def product(first,second):\n",
    "    result=first+ second\n",
    "    print(result)\n",
    "@dispatch(float,float,int)\n",
    "def product(first,second,third):\n",
    "    result=first*second*third\n",
    "    print(result)\n",
    "product(2,3)\n",
    "product(2.0,3.5,2.8)\n",
    "product('Msc','Computerscience')\n",
    "product(2.6,3.5,1)"
   ]
  },
  {
   "cell_type": "code",
   "execution_count": 18,
   "id": "3ff34220",
   "metadata": {},
   "outputs": [
    {
     "name": "stdout",
     "output_type": "stream",
     "text": [
      "10\n",
      "abcabcabcabcabc\n",
      "MscComputerscience\n",
      "7.1\n"
     ]
    }
   ],
   "source": [
    "from multipledispatch import dispatch\n",
    "@dispatch(int)\n",
    "def product(first):\n",
    "    result=first*5\n",
    "    print(result)\n",
    "@dispatch(str)\n",
    "def product(first):\n",
    "    result=first*5\n",
    "    print(result)\n",
    "@dispatch(str,str)\n",
    "def product(first,second):\n",
    "    result=first+ second\n",
    "    print(result)\n",
    "@dispatch(float,float,int)\n",
    "def product(first,second,third):\n",
    "    result=first+second+third\n",
    "    print(result)\n",
    "product(2)\n",
    "product(\"abc\")\n",
    "product('Msc','Computerscience')\n",
    "product(2.6,3.5,1)"
   ]
  },
  {
   "cell_type": "code",
   "execution_count": 13,
   "id": "8c156267",
   "metadata": {},
   "outputs": [
    {
     "name": "stdout",
     "output_type": "stream",
     "text": [
      "60\n",
      "80\n"
     ]
    }
   ],
   "source": [
    "class example:\n",
    "    def add(self,a=None,b=None,c=None):\n",
    "        x=0\n",
    "        if a!=None and b!=None and c!=None:\n",
    "            x=a+b+c\n",
    "        elif a!=None and b!=None and c==None:\n",
    "            x=a+b\n",
    "        return x\n",
    "obj=example()\n",
    "print(obj.add(20,10,30))\n",
    "print(obj.add(30,50))"
   ]
  },
  {
   "cell_type": "code",
   "execution_count": null,
   "id": "fd13b5fb",
   "metadata": {},
   "outputs": [],
   "source": []
  }
 ],
 "metadata": {
  "kernelspec": {
   "display_name": "Python 3 (ipykernel)",
   "language": "python",
   "name": "python3"
  },
  "language_info": {
   "codemirror_mode": {
    "name": "ipython",
    "version": 3
   },
   "file_extension": ".py",
   "mimetype": "text/x-python",
   "name": "python",
   "nbconvert_exporter": "python",
   "pygments_lexer": "ipython3",
   "version": "3.9.7"
  }
 },
 "nbformat": 4,
 "nbformat_minor": 5
}

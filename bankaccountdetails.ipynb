{
 "cells": [
  {
   "cell_type": "code",
   "execution_count": null,
   "id": "c26a792e",
   "metadata": {},
   "outputs": [
    {
     "name": "stdout",
     "output_type": "stream",
     "text": [
      "Welcome to your Bank Account. Please Enter your name: di\n",
      "Enter \n",
      ".1 Balance Equiry,\n",
      "2.Deposit\n",
      "3.Withdraw\n",
      "1\n",
      "Your Current balance : 0\n",
      "Enter \n",
      ".1 Balance Equiry,\n",
      "2.Deposit\n",
      "3.Withdraw\n",
      "2\n",
      "Hello di, please enter amount to deposit: 6000\n",
      "Your Current balance : 6000.0\n",
      "Enter \n",
      ".1 Balance Equiry,\n",
      "2.Deposit\n",
      "3.Withdraw\n",
      "3\n",
      "Enter amount to withdraw: 6000\n",
      "minimum balance should be 500\n",
      "Your Current balance : 6000.0\n"
     ]
    }
   ],
   "source": [
    "class Bank:\n",
    "    def __init__(self):\n",
    "        self.total_amount = 0\n",
    "        self.name = ''\n",
    "    def username(self):\n",
    "        self.name = input('Welcome to your Bank Account. Please Enter your name: ')\n",
    "    def print_current_balance(self):\n",
    "        print('Your Current balance : {}'.format(self.total_amount))\n",
    "    def deposit(self):\n",
    "        self.total_amount += float(input('Hello {}, please enter amount to deposit: '.format(self.name)))\n",
    "        self.print_current_balance()\n",
    "    def withdraw(self):\n",
    "        amount_to_withdraw = float(input('Enter amount to withdraw: '))\n",
    "        if amount_to_withdraw > self.total_amount:\n",
    "            print('Insufficient Balance !!')\n",
    "        elif (self.total_amount-amount_to_withdraw) <500:\n",
    "            print(\"minimum balance should be 500\")\n",
    "        else:\n",
    "            self.total_amount -= amount_to_withdraw\n",
    "        self.print_current_balance()\n",
    "if __name__==\"__main__\":\n",
    "    bank = Bank()\n",
    "    bank.username()\n",
    "    while True:\n",
    "        input_value = int(input('Enter \\n1. Balance Equiry,\\n2.Deposit\\n3.Withdraw\\n'))\n",
    "        if input_value == 1:\n",
    "            bank.print_current_balance()        \n",
    "        elif input_value == 2:\n",
    "            bank.deposit()\n",
    "        elif input_value == 3:\n",
    "            bank.withdraw()\n",
    "        else:\n",
    "            print('Please enter a valid input.')\n"
   ]
  },
  {
   "cell_type": "code",
   "execution_count": null,
   "id": "db138459",
   "metadata": {},
   "outputs": [],
   "source": []
  },
  {
   "cell_type": "code",
   "execution_count": null,
   "id": "3f5ed83d",
   "metadata": {},
   "outputs": [],
   "source": []
  },
  {
   "cell_type": "code",
   "execution_count": null,
   "id": "2989c354",
   "metadata": {},
   "outputs": [],
   "source": []
  }
 ],
 "metadata": {
  "kernelspec": {
   "display_name": "Python 3 (ipykernel)",
   "language": "python",
   "name": "python3"
  },
  "language_info": {
   "codemirror_mode": {
    "name": "ipython",
    "version": 3
   },
   "file_extension": ".py",
   "mimetype": "text/x-python",
   "name": "python",
   "nbconvert_exporter": "python",
   "pygments_lexer": "ipython3",
   "version": "3.9.7"
  }
 },
 "nbformat": 4,
 "nbformat_minor": 5
}

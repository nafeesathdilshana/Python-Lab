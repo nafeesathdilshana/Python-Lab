{
 "cells": [
  {
   "cell_type": "code",
   "execution_count": 5,
   "id": "a7c5733a",
   "metadata": {},
   "outputs": [
    {
     "data": {
      "text/plain": [
       "5"
      ]
     },
     "execution_count": 5,
     "metadata": {},
     "output_type": "execute_result"
    }
   ],
   "source": [
    "namelist=['aff','bff','fruits','animals','enivironment']\n",
    "max(namelist)\n",
    "len(namelist)"
   ]
  },
  {
   "cell_type": "code",
   "execution_count": 7,
   "id": "f9538227",
   "metadata": {},
   "outputs": [
    {
     "name": "stdout",
     "output_type": "stream",
     "text": [
      "['sikander', 'prasanna', 'john', 'RA']\n"
     ]
    },
    {
     "data": {
      "text/plain": [
       "'RA'"
      ]
     },
     "execution_count": 7,
     "metadata": {},
     "output_type": "execute_result"
    }
   ],
   "source": [
    "namelist=['sikander','prasanna','john','RA']\n",
    "print(namelist)\n",
    "min(namelist)"
   ]
  },
  {
   "cell_type": "code",
   "execution_count": 8,
   "id": "79376f84",
   "metadata": {},
   "outputs": [
    {
     "name": "stdout",
     "output_type": "stream",
     "text": [
      "10\n",
      "45\n"
     ]
    }
   ],
   "source": [
    "def while_loop_example():\n",
    "    sum1=0\n",
    "    count=1\n",
    "    while(count < 10):\n",
    "        sum1=sum1 + count\n",
    "        count=count + 1\n",
    "    print(count)\n",
    "    print(sum1)\n",
    "while_loop_example()"
   ]
  },
  {
   "cell_type": "code",
   "execution_count": null,
   "id": "13557fc1",
   "metadata": {},
   "outputs": [],
   "source": [
    "num = int (input(\"enter a number\")) \n",
    "if num == num[::-1]:  \n",
    " print('The given number is PALINDROME')  \n",
    "else:  \n",
    " print('The given number is NOT a palindrome') "
   ]
  },
  {
   "cell_type": "code",
   "execution_count": null,
   "id": "9a21b93e",
   "metadata": {},
   "outputs": [],
   "source": []
  },
  {
   "cell_type": "code",
   "execution_count": null,
   "id": "5118247c",
   "metadata": {},
   "outputs": [],
   "source": []
  }
 ],
 "metadata": {
  "kernelspec": {
   "display_name": "Python 3 (ipykernel)",
   "language": "python",
   "name": "python3"
  },
  "language_info": {
   "codemirror_mode": {
    "name": "ipython",
    "version": 3
   },
   "file_extension": ".py",
   "mimetype": "text/x-python",
   "name": "python",
   "nbconvert_exporter": "python",
   "pygments_lexer": "ipython3",
   "version": "3.9.7"
  }
 },
 "nbformat": 4,
 "nbformat_minor": 5
}

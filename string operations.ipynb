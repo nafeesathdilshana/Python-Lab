{
 "cells": [
  {
   "cell_type": "code",
   "execution_count": null,
   "id": "3c8639eb",
   "metadata": {},
   "outputs": [
    {
     "name": "stdout",
     "output_type": "stream",
     "text": [
      "\n",
      "MAIN MENU\n",
      "1.create a string and concatenate\n",
      "2.Access the substring\n",
      "3.Length of given string\n",
      "4.Indexing\n",
      "5.String comparision\n",
      "6. Exit\n"
     ]
    }
   ],
   "source": [
    "ch=0\n",
    "while (1):  \n",
    "    print(\"\\nMAIN MENU\")  \n",
    "    print(\"1.create a string and concatenate\")  \n",
    "    print(\"2.Access the substring\")    \n",
    "    print(\"3.Length of given string\")  \n",
    "    print(\"4.Indexing\")  \n",
    "    print(\"5.String comparision\")\n",
    "    print(\"6. Exit\")  \n",
    "    ch= int(input(\"Enter the Choice:\"))  \n",
    "    if ch==1:\n",
    "        str1=input(\"enter first string:\")\n",
    "        print(str1)\n",
    "        str2=input(\"enter second string:\")\n",
    "        print(str2)\n",
    "        str3=str1+str2\n",
    "        print(\"Concatenated two different strings:\",str3)\n",
    "    elif ch==2:\n",
    "        start=int(input(\"enter the starting index:\"))\n",
    "        stop=int(input(\"enter the ending index:\"))\n",
    "        step=int(input(\"enter the step value:\"))\n",
    "        str3=slice(start,stop,step)\n",
    "        print(\"after slicing:\",str1[str3])\n",
    "    elif ch==3:\n",
    "        print(\"the length of given string is:\",len(str3))\n",
    "    elif ch==4:\n",
    "        ind=input(\"enter a character to find the index:\")\n",
    "        if ind in str3:\n",
    "            print(\"the index of character is:\",str3.index(ind))\n",
    "        else:\n",
    "            print(\"character not found\")            \n",
    "    elif ch==5:\n",
    "        if str1==str2:\n",
    "                  print(\"the given string is equal\")\n",
    "        elif str1<str2:\n",
    "                  print(\"string1 is less than string2\")\n",
    "        else:\n",
    "            print(\"string1 greater than string2\")      \n",
    "    elif ch==6:\n",
    "        break\n",
    "    else:\n",
    "        print(\"sorry invalid choice\")\n",
    "    \n",
    "    "
   ]
  },
  {
   "cell_type": "code",
   "execution_count": null,
   "id": "b9eee084",
   "metadata": {},
   "outputs": [],
   "source": []
  },
  {
   "cell_type": "code",
   "execution_count": null,
   "id": "c90c387a",
   "metadata": {},
   "outputs": [],
   "source": []
  },
  {
   "cell_type": "code",
   "execution_count": null,
   "id": "0e3b21c4",
   "metadata": {},
   "outputs": [],
   "source": []
  }
 ],
 "metadata": {
  "kernelspec": {
   "display_name": "Python 3 (ipykernel)",
   "language": "python",
   "name": "python3"
  },
  "language_info": {
   "codemirror_mode": {
    "name": "ipython",
    "version": 3
   },
   "file_extension": ".py",
   "mimetype": "text/x-python",
   "name": "python",
   "nbconvert_exporter": "python",
   "pygments_lexer": "ipython3",
   "version": "3.9.7"
  }
 },
 "nbformat": 4,
 "nbformat_minor": 5
}

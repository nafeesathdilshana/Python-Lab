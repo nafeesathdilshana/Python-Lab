{
 "cells": [
  {
   "cell_type": "code",
   "execution_count": 7,
   "id": "8843ffb3",
   "metadata": {},
   "outputs": [
    {
     "name": "stdout",
     "output_type": "stream",
     "text": [
      "[(1, 'abc', 23), (2, 'def', 45), (3, 'ghi', 67)]\n"
     ]
    }
   ],
   "source": [
    "rollno=(1,2,3,4)\n",
    "name=(\"abc\",\"def\",\"ghi\")\n",
    "marks=(23,45,67,89)\n",
    "stud=zip(rollno,name,marks)\n",
    "print(list(stud))"
   ]
  },
  {
   "cell_type": "code",
   "execution_count": 6,
   "id": "2f36d812",
   "metadata": {},
   "outputs": [
    {
     "name": "stdout",
     "output_type": "stream",
     "text": [
      "[('Java', 14), ('Python', 3), ('JavaScript', 6)]\n"
     ]
    }
   ],
   "source": [
    "languages = ['Java', 'Python', 'JavaScript']\n",
    "versions = [14, 3, 6]\n",
    "result = zip(languages, versions)\n",
    "print(list(result))"
   ]
  },
  {
   "cell_type": "code",
   "execution_count": 13,
   "id": "b91ce901",
   "metadata": {},
   "outputs": [
    {
     "name": "stdout",
     "output_type": "stream",
     "text": [
      "False\n"
     ]
    }
   ],
   "source": [
    "rollno=(-1,0,1,2,3,4)\n",
    "res=all(rollno)\n",
    "print(res)"
   ]
  },
  {
   "cell_type": "code",
   "execution_count": null,
   "id": "c9f651da",
   "metadata": {},
   "outputs": [],
   "source": []
  }
 ],
 "metadata": {
  "kernelspec": {
   "display_name": "Python 3 (ipykernel)",
   "language": "python",
   "name": "python3"
  },
  "language_info": {
   "codemirror_mode": {
    "name": "ipython",
    "version": 3
   },
   "file_extension": ".py",
   "mimetype": "text/x-python",
   "name": "python",
   "nbconvert_exporter": "python",
   "pygments_lexer": "ipython3",
   "version": "3.9.7"
  }
 },
 "nbformat": 4,
 "nbformat_minor": 5
}

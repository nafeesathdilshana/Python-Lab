{
 "cells": [
  {
   "cell_type": "code",
   "execution_count": 1,
   "id": "b51e6d98",
   "metadata": {},
   "outputs": [
    {
     "name": "stdout",
     "output_type": "stream",
     "text": [
      "30\n"
     ]
    }
   ],
   "source": [
    "a=10\n",
    "b=20\n",
    "sum=a+b\n",
    "print(sum)"
   ]
  },
  {
   "cell_type": "code",
   "execution_count": 2,
   "id": "413a961f",
   "metadata": {},
   "outputs": [
    {
     "name": "stdout",
     "output_type": "stream",
     "text": [
      "10\n"
     ]
    }
   ],
   "source": [
    "a=30\n",
    "b=20\n",
    "sub=a-b\n",
    "print(sub)"
   ]
  },
  {
   "cell_type": "code",
   "execution_count": 4,
   "id": "a6c599be",
   "metadata": {},
   "outputs": [
    {
     "name": "stdout",
     "output_type": "stream",
     "text": [
      "five is greater than two\n"
     ]
    }
   ],
   "source": [
    "a=2\n",
    "b=5\n",
    "if a>b:\n",
    "    print(\"five is less than two\")\n",
    "else:\n",
    "    print(\"five is greater than two\")"
   ]
  },
  {
   "cell_type": "code",
   "execution_count": 11,
   "id": "3ed0adfd",
   "metadata": {},
   "outputs": [
    {
     "name": "stdout",
     "output_type": "stream",
     "text": [
      "hello,world h\n",
      "hello,world e\n",
      "hello,world l\n",
      "hello,world l\n",
      "hello,world o\n",
      "hello,world ,\n",
      "hello,world w\n",
      "hello,world o\n",
      "hello,world r\n",
      "hello,world l\n",
      "hello,world d\n"
     ]
    }
   ],
   "source": [
    "my_string=\"hello,world\"\n",
    "x=my_string\n",
    "for x in my_string:\n",
    "    print(my_string,x[0:5])"
   ]
  },
  {
   "cell_type": "code",
   "execution_count": null,
   "id": "8fbdfd52",
   "metadata": {},
   "outputs": [],
   "source": []
  }
 ],
 "metadata": {
  "kernelspec": {
   "display_name": "Python 3 (ipykernel)",
   "language": "python",
   "name": "python3"
  },
  "language_info": {
   "codemirror_mode": {
    "name": "ipython",
    "version": 3
   },
   "file_extension": ".py",
   "mimetype": "text/x-python",
   "name": "python",
   "nbconvert_exporter": "python",
   "pygments_lexer": "ipython3",
   "version": "3.9.7"
  }
 },
 "nbformat": 4,
 "nbformat_minor": 5
}

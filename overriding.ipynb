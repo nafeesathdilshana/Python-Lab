{
 "cells": [
  {
   "cell_type": "code",
   "execution_count": 1,
   "id": "32e03dce",
   "metadata": {},
   "outputs": [
    {
     "name": "stdout",
     "output_type": "stream",
     "text": [
      "Inside Parent\n",
      "Inside Child\n"
     ]
    }
   ],
   "source": [
    "class Parent():  \n",
    "    # producer  \n",
    "    def __init__(self):  \n",
    "        self.value = \"Inside Parent\"  \n",
    "    # showing a parents method  \n",
    "    def show(self):  \n",
    "        print(self.value)         \n",
    "# Defining a child class  \n",
    "class Child(Parent):      \n",
    "    # Constructor  \n",
    "    def __init__(self):  \n",
    "        self.value = \"Inside Child\"       \n",
    "    # showing the child's method  \n",
    "    def show(self):  \n",
    "        print(self.value)  \n",
    "# Chauffeur's code  \n",
    "obj1 = Parent()  \n",
    "obj2 = Child()  \n",
    "obj1.show()  \n",
    "obj2.show()  "
   ]
  },
  {
   "cell_type": "code",
   "execution_count": 2,
   "id": "ea6ab9f2",
   "metadata": {},
   "outputs": [
    {
     "name": "stdout",
     "output_type": "stream",
     "text": [
      "woof!\n",
      "meowwww\n"
     ]
    }
   ],
   "source": [
    "class animal:\n",
    "    def sound(self):\n",
    "        return \"some animal sounds\"\n",
    "class Dog(animal):\n",
    "    def sound(self):\n",
    "        return \"woof!\"\n",
    "class Cat(animal):\n",
    "    def sound(self):\n",
    "        return \"meowwww\"\n",
    "dog=Dog()\n",
    "cat=Cat()\n",
    "print(dog.sound())\n",
    "print(cat.sound())"
   ]
  },
  {
   "cell_type": "code",
   "execution_count": null,
   "id": "f85d237a",
   "metadata": {},
   "outputs": [],
   "source": []
  }
 ],
 "metadata": {
  "kernelspec": {
   "display_name": "Python 3 (ipykernel)",
   "language": "python",
   "name": "python3"
  },
  "language_info": {
   "codemirror_mode": {
    "name": "ipython",
    "version": 3
   },
   "file_extension": ".py",
   "mimetype": "text/x-python",
   "name": "python",
   "nbconvert_exporter": "python",
   "pygments_lexer": "ipython3",
   "version": "3.9.7"
  }
 },
 "nbformat": 4,
 "nbformat_minor": 5
}

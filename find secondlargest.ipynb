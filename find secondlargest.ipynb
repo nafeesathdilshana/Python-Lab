{
 "cells": [
  {
   "cell_type": "code",
   "execution_count": 3,
   "id": "404411a0",
   "metadata": {},
   "outputs": [
    {
     "name": "stdout",
     "output_type": "stream",
     "text": [
      "Enter number of elements in list: 3\n",
      "Enter the elements: 5\n",
      "Enter the elements: 7\n",
      "Enter the elements: 8\n",
      "Second largest element is: 7\n"
     ]
    }
   ],
   "source": [
    "listval= []    \n",
    "num= int(input(\"Enter number of elements in list: \"))  \n",
    "for i in range(1, num + 1):  \n",
    "    ele= int(input(\"Enter the elements: \"))  \n",
    "    listval.append(ele)  \n",
    "listval.sort()    \n",
    "print(\"Second largest element is:\", listval[-2])  "
   ]
  },
  {
   "cell_type": "code",
   "execution_count": 4,
   "id": "2cc207b8",
   "metadata": {},
   "outputs": [
    {
     "name": "stdout",
     "output_type": "stream",
     "text": [
      "Enter number of elements in list: 3\n",
      "Enter the elements: -1\n",
      "Enter the elements: -10\n",
      "Enter the elements: -6\n",
      "Second largest element is: -6\n"
     ]
    }
   ],
   "source": [
    "listval= []    \n",
    "num= int(input(\"Enter number of elements in list: \"))  \n",
    "for i in range(1, num + 1):  \n",
    "    ele= int(input(\"Enter the elements: \"))  \n",
    "    listval.append(ele)  \n",
    "listval.sort()    \n",
    "print(\"Second largest element is:\", listval[-2])  "
   ]
  },
  {
   "cell_type": "code",
   "execution_count": null,
   "id": "020acfd0",
   "metadata": {},
   "outputs": [],
   "source": [
    "list1 = [2, 1, 8, 7, 3, 0,10]\n",
    "print('The given list is:', list1)\n",
    "list2 = []\n",
    "list1.sort()\n",
    "list2=list1\n",
    "print('The sorted list is:', list2)\n",
    "print('The second largest number in the given list is:', list2[-2])"
   ]
  },
  {
   "cell_type": "code",
   "execution_count": null,
   "id": "a6d1f1f1",
   "metadata": {},
   "outputs": [],
   "source": []
  }
 ],
 "metadata": {
  "kernelspec": {
   "display_name": "Python 3 (ipykernel)",
   "language": "python",
   "name": "python3"
  },
  "language_info": {
   "codemirror_mode": {
    "name": "ipython",
    "version": 3
   },
   "file_extension": ".py",
   "mimetype": "text/x-python",
   "name": "python",
   "nbconvert_exporter": "python",
   "pygments_lexer": "ipython3",
   "version": "3.9.7"
  }
 },
 "nbformat": 4,
 "nbformat_minor": 5
}

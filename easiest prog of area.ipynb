{
 "cells": [
  {
   "cell_type": "code",
   "execution_count": null,
   "id": "b8b7c739",
   "metadata": {},
   "outputs": [],
   "source": [
    "print(\"enter the shape name:\")\n",
    "print(\"1.rectangle\")\n",
    "print(\"2.triangle\")\n",
    "print(\"3.circle\")\n",
    "n=float(input(\"enter your choice:\"))\n",
    "if n==1:\n",
    "    l=float(input(\"enter the length:\"))\n",
    "    b=float(input(\"enter the breadth: \"))\n",
    "    rec_peri=2*(l+b)\n",
    "    print(\"the perimetere of rectangle:\",rec_peri)\n",
    "elif n==2:\n",
    "    a=float(input(\"enter the a value:\"))\n",
    "    b=float(input(\"enter the b value:\"))\n",
    "    c=float(input(\"enter the c value:\"))\n",
    "    tri_peri=a*b*c\n",
    "    print(\"the perimeter of triangle:\",tri_peri)\n",
    "elif n==3:\n",
    "    r=float(input(\"enter a the value:\"))\n",
    "    circ_peri=2*3.14*r\n",
    "    print(\"the perimeter of circle:\",circ_peri)\n",
    "else:\n",
    "    print(\"invlaid choice\")"
   ]
  }
 ],
 "metadata": {
  "kernelspec": {
   "display_name": "Python 3 (ipykernel)",
   "language": "python",
   "name": "python3"
  },
  "language_info": {
   "codemirror_mode": {
    "name": "ipython",
    "version": 3
   },
   "file_extension": ".py",
   "mimetype": "text/x-python",
   "name": "python",
   "nbconvert_exporter": "python",
   "pygments_lexer": "ipython3",
   "version": "3.9.7"
  }
 },
 "nbformat": 4,
 "nbformat_minor": 5
}

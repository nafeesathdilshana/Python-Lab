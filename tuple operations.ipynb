{
 "cells": [
  {
   "cell_type": "code",
   "execution_count": 23,
   "id": "c02be034",
   "metadata": {},
   "outputs": [
    {
     "name": "stdout",
     "output_type": "stream",
     "text": [
      "(1, 2, 3, 'hello', 'world', 2.0, 30)\n"
     ]
    },
    {
     "data": {
      "text/plain": [
       "3"
      ]
     },
     "execution_count": 23,
     "metadata": {},
     "output_type": "execute_result"
    }
   ],
   "source": [
    "t1=()\n",
    "type(t1)\n",
    "t1=(1,2,3,\"hello\",\"world\",2.0,30)\n",
    "print(t1)\n",
    "len(t1)\n",
    "t1.count(3)\n",
    "t1.index(\"hello\")\n",
    "#sorted(t1)\n",
    "#max(t1)\n",
    "#min(t1)\n",
    "#sum(t1)\n"
   ]
  },
  {
   "cell_type": "code",
   "execution_count": 22,
   "id": "7c262570",
   "metadata": {},
   "outputs": [
    {
     "name": "stdout",
     "output_type": "stream",
     "text": [
      "<enumerate object at 0x00000242243989C0>\n"
     ]
    }
   ],
   "source": [
    "x = ('apple', 'banana', 'cherry')\n",
    "y = enumerate(x)\n",
    "print(y)"
   ]
  },
  {
   "cell_type": "code",
   "execution_count": 37,
   "id": "fea491ae",
   "metadata": {},
   "outputs": [
    {
     "name": "stdout",
     "output_type": "stream",
     "text": [
      "A\n",
      "(1, 2, 3.89)\n",
      "True\n",
      "False\n",
      "False\n",
      "True\n"
     ]
    }
   ],
   "source": [
    "tup=(\"A\")\n",
    "print(tup)\n",
    "tup1=1,2,3.89\n",
    "print(tup1)\n",
    "print(1 in tup1)\n",
    "print(6 in tup1)\n",
    "tupp=(\"apple\",\"bat\",\"cat\",\"mat\")\n",
    "print(\"a\" in tupp)\n",
    "print(\"bat\" in tupp)\n",
    "#tup1.round() doesnot support tuple its built in method"
   ]
  },
  {
   "cell_type": "code",
   "execution_count": 41,
   "id": "cb25f762",
   "metadata": {},
   "outputs": [
    {
     "name": "stdout",
     "output_type": "stream",
     "text": [
      "True\n",
      "False\n"
     ]
    }
   ],
   "source": [
    "tupp=(\"apple\",\"bat\",\"cat\",\"mat\",1,3,0)\n",
    "print(any(tupp))\n",
    "print(all(tupp))"
   ]
  },
  {
   "cell_type": "code",
   "execution_count": null,
   "id": "6daea4f9",
   "metadata": {},
   "outputs": [],
   "source": []
  }
 ],
 "metadata": {
  "kernelspec": {
   "display_name": "Python 3 (ipykernel)",
   "language": "python",
   "name": "python3"
  },
  "language_info": {
   "codemirror_mode": {
    "name": "ipython",
    "version": 3
   },
   "file_extension": ".py",
   "mimetype": "text/x-python",
   "name": "python",
   "nbconvert_exporter": "python",
   "pygments_lexer": "ipython3",
   "version": "3.9.7"
  }
 },
 "nbformat": 4,
 "nbformat_minor": 5
}

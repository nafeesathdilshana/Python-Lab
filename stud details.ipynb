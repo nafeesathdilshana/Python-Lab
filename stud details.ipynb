{
 "cells": [
  {
   "cell_type": "code",
   "execution_count": null,
   "id": "eae50d22",
   "metadata": {},
   "outputs": [],
   "source": [
    "class Student:\n",
    "    def __init__(self,regno,name,course,marks):\n",
    "        self.name=name\n",
    "        self.regno=regno\n",
    "        self.course=course\n",
    "        self.marks=marks\n",
    "    def StudentDetails(self):\n",
    "        print(\"register number:\",self.regno)\n",
    "        print(\"Name:\",self.name)\n",
    "        print(\"course:\",self.course)\n",
    "        print(\"marks:\",self.marks)\n",
    "    def total(self):\n",
    "        print(\"total marks:\",sum(marks))\n",
    "    def average(self):\n",
    "        total=sum(marks)\n",
    "        avg=total/5\n",
    "        print(\"average:\",avg)\n",
    "    def calculategrade(self):\n",
    "        total=sum(marks)\n",
    "        avg=total/5\n",
    "        if avg >=80 and avg<=100:\n",
    "            print(\"A grade\")\n",
    "        elif avg >=60 and avg<80:\n",
    "            print(\"B Grade\")\n",
    "        elif avg>=45 and avg<60:\n",
    "            print(\"C Grade\")\n",
    "        elif avg>=35 and avg<45:\n",
    "            print(\"D Grade\")\n",
    "        elif avg<35:\n",
    "            print(\"FAIL\")\n",
    "        else:\n",
    "            print(\"invalid marks\")\n",
    "regno=int(input(\"enter register number:\"))\n",
    "name=input(\"enter  name:\")\n",
    "course=input(\"enter course:\")\n",
    "marks=[]\n",
    "for i in range(5):\n",
    "    marks.append(int(input(\"enter mark:\")))\n",
    "S1=Student(regno,name,course,marks)\n",
    "S1.StudentDetails()\n",
    "s1.total()\n",
    "s1.average()\n",
    "s1.calculategrade()\n",
    "\n",
    "\n"
   ]
  },
  {
   "cell_type": "code",
   "execution_count": null,
   "id": "d1e3a2bc",
   "metadata": {},
   "outputs": [],
   "source": []
  }
 ],
 "metadata": {
  "kernelspec": {
   "display_name": "Python 3 (ipykernel)",
   "language": "python",
   "name": "python3"
  },
  "language_info": {
   "codemirror_mode": {
    "name": "ipython",
    "version": 3
   },
   "file_extension": ".py",
   "mimetype": "text/x-python",
   "name": "python",
   "nbconvert_exporter": "python",
   "pygments_lexer": "ipython3",
   "version": "3.9.7"
  }
 },
 "nbformat": 4,
 "nbformat_minor": 5
}

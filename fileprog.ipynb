{
 "cells": [
  {
   "cell_type": "code",
   "execution_count": 5,
   "id": "fed2765d",
   "metadata": {},
   "outputs": [
    {
     "name": "stdout",
     "output_type": "stream",
     "text": [
      "Number of words in text file:  2245\n",
      "Number of lines in text file:  83\n",
      "Number of characters in text file:  9545\n",
      "Number of spaces in text file:  2162\n"
     ]
    }
   ],
   "source": [
    "\n",
    "def fileoperation(fname):\n",
    "    num_words = 0\n",
    "    num_lines = 0\n",
    "    num_charc = 0\n",
    "    num_spaces = 0\n",
    "    with open(\"obamawife.txt\", 'r') as f:\n",
    "        for line in f:\n",
    "            num_lines = num_lines+1\n",
    "            word = 'Y'\n",
    "            for letter in line:\n",
    "                if (letter != ' ' and word == 'Y'):\n",
    "                    num_words += 1\n",
    "                    word = 'N'\n",
    "                elif (letter == ' '):\n",
    "                    num_spaces += 1\n",
    "                    word = 'Y'\n",
    "                for i in letter:\n",
    "                    if(i !=\" \" and i !=\"\\n\"):\n",
    "                        num_charc += 1\n",
    "\n",
    "\n",
    "    print(\"Number of words in text file: \",num_words)\n",
    "\n",
    "\n",
    "    print(\"Number of lines in text file: \",num_lines)\n",
    "\n",
    "\n",
    "    print('Number of characters in text file: ',num_charc)\n",
    "\n",
    "\n",
    "    print('Number of spaces in text file: ',num_spaces)\n",
    "\n",
    "\n",
    "if __name__ == '__main__':\n",
    "    fname = 'obamawife.txt'\n",
    "    try:\n",
    "        fileoperation(fname)\n",
    "    except:\n",
    "        print('File not found')\n"
   ]
  },
  {
   "cell_type": "code",
   "execution_count": 6,
   "id": "6e793e81",
   "metadata": {},
   "outputs": [
    {
     "name": "stdout",
     "output_type": "stream",
     "text": [
      "Number of words in text file:  2431\n",
      "Number of lines in text file:  66\n",
      "Number of characters in text file:  10911\n",
      "Number of spaces in text file:  2365\n"
     ]
    }
   ],
   "source": [
    "def fileoperation(fname):\n",
    "    num_words = 0\n",
    "    num_lines = 0\n",
    "    num_charc = 0\n",
    "    num_spaces = 0\n",
    "    with open(\"obama1.txt\", 'r') as f:\n",
    "        for line in f:\n",
    "            num_lines = num_lines+1\n",
    "            word = 'Y'\n",
    "            for letter in line:\n",
    "                if (letter != ' ' and word == 'Y'):\n",
    "                    num_words += 1\n",
    "                    word = 'N'\n",
    "                elif (letter == ' '):\n",
    "                    num_spaces += 1\n",
    "                    word = 'Y'\n",
    "                for i in letter:\n",
    "                    if(i !=\" \" and i !=\"\\n\"):\n",
    "                        num_charc += 1\n",
    "\n",
    "\n",
    "    print(\"Number of words in text file: \",num_words)\n",
    "\n",
    "\n",
    "    print(\"Number of lines in text file: \",num_lines)\n",
    "\n",
    "\n",
    "    print('Number of characters in text file: ',num_charc)\n",
    "\n",
    "\n",
    "    print('Number of spaces in text file: ',num_spaces)\n",
    "\n",
    "\n",
    "if __name__ == '__main__':\n",
    "    fname = 'obama1.txt'\n",
    "    try:\n",
    "        fileoperation(fname)\n",
    "    except:\n",
    "        print('File not found')\n"
   ]
  },
  {
   "cell_type": "code",
   "execution_count": 7,
   "id": "e95492c8",
   "metadata": {},
   "outputs": [
    {
     "name": "stdout",
     "output_type": "stream",
     "text": [
      "Number of words in text file:  1391\n",
      "Number of lines in text file:  33\n",
      "Number of characters in text file:  6099\n",
      "Number of spaces in text file:  1358\n"
     ]
    }
   ],
   "source": [
    "def fileoperation(fname):\n",
    "    num_words = 0\n",
    "    num_lines = 0\n",
    "    num_charc = 0\n",
    "    num_spaces = 0\n",
    "    with open(\"trumpwife.txt\", 'r') as f:\n",
    "        for line in f:\n",
    "            num_lines = num_lines+1\n",
    "            word = 'Y'\n",
    "            for letter in line:\n",
    "                if (letter != ' ' and word == 'Y'):\n",
    "                    num_words += 1\n",
    "                    word = 'N'\n",
    "                elif (letter == ' '):\n",
    "                    num_spaces += 1\n",
    "                    word = 'Y'\n",
    "                for i in letter:\n",
    "                    if(i !=\" \" and i !=\"\\n\"):\n",
    "                        num_charc += 1\n",
    "\n",
    "\n",
    "    print(\"Number of words in text file: \",num_words)\n",
    "\n",
    "\n",
    "    print(\"Number of lines in text file: \",num_lines)\n",
    "\n",
    "\n",
    "    print('Number of characters in text file: ',num_charc)\n",
    "\n",
    "\n",
    "    print('Number of spaces in text file: ',num_spaces)\n",
    "\n",
    "\n",
    "if __name__ == '__main__':\n",
    "    fname = 'trumpwife.txt'\n",
    "    try:\n",
    "        fileoperation(fname)\n",
    "    except:\n",
    "        print('File not found')\n"
   ]
  },
  {
   "cell_type": "code",
   "execution_count": 1,
   "id": "3704ee20",
   "metadata": {},
   "outputs": [
    {
     "name": "stdout",
     "output_type": "stream",
     "text": [
      "Number of words in text file:  2245\n",
      "Number of lines in text file:  83\n",
      "Number of characters in text file:  9547\n",
      "Number of spaces in text file:  2162\n"
     ]
    }
   ],
   "source": [
    "def fileoperation(fname):\n",
    "    num_words = 0\n",
    "    num_lines = 0\n",
    "    num_charc = 0\n",
    "    num_spaces = 0\n",
    "    with open(\"obamawife.txt\", 'r') as f:\n",
    "        for line in f:\n",
    "            num_lines = num_lines+1\n",
    "            word = 'Y'\n",
    "            for letter in line:\n",
    "                if (letter != ' ' and word == 'Y'):\n",
    "                    num_words += 1\n",
    "                    word = 'N'\n",
    "                elif (letter == ' '):\n",
    "                    num_spaces += 1\n",
    "                    word = 'Y'\n",
    "                for i in letter:\n",
    "                    if(i !=\" \" and i !=\"\\n\"):\n",
    "                        num_charc += 1\n",
    "\n",
    "\n",
    "    print(\"Number of words in text file: \",num_words)\n",
    "\n",
    "\n",
    "    print(\"Number of lines in text file: \",num_lines)\n",
    "\n",
    "\n",
    "    print('Number of characters in text file: ',num_charc)\n",
    "\n",
    "\n",
    "    print('Number of spaces in text file: ',num_spaces)\n",
    "\n",
    "\n",
    "if __name__ == '__main__':\n",
    "    fname = 'obamawife.txt'\n",
    "    try:\n",
    "        fileoperation(fname)\n",
    "    except:\n",
    "        print('File not found')\n"
   ]
  },
  {
   "cell_type": "code",
   "execution_count": 12,
   "id": "c4985e85",
   "metadata": {},
   "outputs": [
    {
     "name": "stdout",
     "output_type": "stream",
     "text": [
      "['23As', 'you', 'might', 'imagine,', 'for', 'Barack,', 'running', 'for', 'president', 'is', 'nothing', 'compared', 'to', 'that', 'first', 'game', 'of', 'basketball', 'with', 'my', 'brother,', 'Craig.', 'I', \"can't\", 'tell', 'you', 'how', 'much', 'it', 'means', 'to', 'have', 'Craig', 'and', 'my', 'mom', 'here', 'tonight.', 'Like', 'Craig,', 'I', 'can', 'feel', 'my', 'dad', 'looking', 'down', 'on', 'us,', 'just', 'as', \"I've\", 'felt', 'his', 'presence', 'in', 'every', 'grace-filled', 'moment', 'of', 'my', 'life.', 'At', '6-foot-6,', \"I've\", 'often', 'felt', 'like', 'Craig', 'was', 'looking', 'down', 'on', 'me', 'too', '...', 'literally.', 'But', 'the', 'truth', 'is,', 'both', 'when', 'we', 'were', 'kids', 'and', 'today,', 'he', \"wasn't\", 'looking', 'down', 'on', 'me.', 'He', 'was', 'watching', 'over', 'me.', 'And', \"he's\", 'been', 'there', 'for', 'me', 'every', 'step', 'of', 'the', 'way', 'since', 'that', 'clear', 'February', 'day', '19', 'months', 'ago,', 'when', 'â€”', 'with', 'little', 'more', 'than', 'our', 'faith', 'in', 'each', 'other', 'and', 'a', 'hunger', 'for', 'change', 'â€”', 'we', 'joined', 'my', 'husband,', 'Barack', 'Obama,', 'on', 'the', 'improbable', 'journey', \"that's\", 'brought', 'us', 'to', 'this', 'moment.', 'But', 'each', 'of', 'us', 'also', 'comes', 'here', 'tonight', 'by', 'way', 'of', 'our', 'own', 'improbable', 'journey.', 'I', 'come', 'here', 'tonight', 'as', 'a', 'sister,', 'blessed', 'with', 'a', 'brother', 'who', 'is', 'my', 'mentor,', 'my', 'protector', 'and', 'my', 'lifelong', 'friend.', 'I', 'come', 'here', 'as', 'a', 'wife', 'who', 'loves', 'my', 'husband', 'and', 'believes', 'he', 'will', 'be', 'an', 'extraordinary', 'president.', 'I', 'come', 'here', 'as', 'a', 'mom', 'whose', 'girls', 'are', 'the', 'heart', 'of', 'my', 'heart', 'and', 'the', 'center', 'of', 'my', 'world', 'â€”', \"they're\", 'the', 'first', 'thing', 'I', 'think', 'about', 'when', 'I', 'wake', 'up', 'in', 'the', 'morning,', 'and', 'the', 'last', 'thing', 'I', 'think', 'about', 'when', 'I', 'go', 'to', 'bed', 'at', 'night.', 'Their', 'future', 'â€”', 'and', 'all', 'our', \"children's\", 'future', 'â€”', 'is', 'my', 'stake', 'in', 'this', 'election.', 'And', 'I', 'come', 'here', 'as', 'a', 'daughter', 'â€”', 'raised', 'on', 'the', 'South', 'Side', 'of', 'Chicago', 'by', 'a', 'father', 'who', 'was', 'a', 'blue-collar', 'city', 'worker', 'and', 'a', 'mother', 'who', 'stayed', 'at', 'home', 'with', 'my', 'brother', 'and', 'me.', 'My', \"mother's\", 'love', 'has', 'always', 'been', 'a', 'sustaining', 'force', 'for', 'our', 'family,', 'and', 'one', 'of', 'my', 'greatest', 'joys', 'is', 'seeing', 'her', 'integrity,', 'her', 'compassion', 'and', 'her', 'intelligence', 'reflected', 'in', 'my', 'own', 'daughters.', 'My', 'dad', 'was', 'our', 'rock.', 'Although', 'he', 'was', 'diagnosed', 'with', 'multiple', 'sclerosis', 'in', 'his', 'early', '30s,', 'he', 'was', 'our', 'provider,', 'our', 'champion,', 'our', 'hero.', 'As', 'he', 'got', 'sicker,', 'it', 'got', 'harder', 'for', 'him', 'to', 'walk,', 'it', 'took', 'him', 'longer', 'to', 'get', 'dressed', 'in', 'the', 'morning.', 'But', 'if', 'he', 'was', 'in', 'pain,', 'he', 'never', 'let', 'on.', 'He', 'never', 'stopped', 'smiling', 'and', 'laughing', 'â€”', 'even', 'while', 'struggling', 'to', 'button', 'his', 'shirt,', 'even', 'while', 'using', 'two', 'canes', 'to', 'get', 'himself', 'across', 'the', 'room', 'to', 'give', 'my', 'mom', 'a', 'kiss.', 'He', 'just', 'woke', 'up', 'a', 'little', 'earlier', 'and', 'worked', 'a', 'little', 'harder.', 'He', 'and', 'my', 'mom', 'poured', 'everything', 'they', 'had', 'into', 'me', 'and', 'Craig.', 'It', 'was', 'the', 'greatest', 'gift', 'a', 'child', 'can', 'receive:', 'never', 'doubting', 'for', 'a', 'single', 'minute', 'that', \"you're\", 'loved,', 'and', 'cherished,', 'and', 'have', 'a', 'place', 'in', 'this', 'world.', 'And', 'thanks', 'to', 'their', 'faith', 'and', 'hard', 'work,', 'we', 'both', 'were', 'able', 'to', 'go', 'on', 'to', 'college.', 'So', 'I', 'know', 'firsthand', 'from', 'their', 'lives', 'â€”', 'and', 'mine', 'â€”', 'that', 'the', 'American', 'dream', 'endures.', 'And', 'you', 'know,', 'what', 'struck', 'me', 'when', 'I', 'first', 'met', 'Barack', 'was', 'that', 'even', 'though', 'he', 'had', 'this', 'funny', 'name,', 'even', 'though', \"he'd\", 'grown', 'up', 'all', 'the', 'way', 'across', 'the', 'continent', 'in', 'Hawaii,', 'his', 'family', 'was', 'so', 'much', 'like', 'mine.', 'He', 'was', 'raised', 'by', 'grandparents', 'who', 'were', 'working-class', 'folks', 'just', 'like', 'my', 'parents,', 'and', 'by', 'a', 'single', 'mother', 'who', 'struggled', 'to', 'pay', 'the', 'bills', 'just', 'like', 'we', 'did.', 'Like', 'my', 'family,', 'they', 'scrimped', 'and', 'saved', 'so', 'that', 'he', 'could', 'have', 'opportunities', 'they', 'never', 'had', 'themselves.', 'And', 'Barack', 'and', 'I', 'were', 'raised', 'with', 'so', 'many', 'of', 'the', 'same', 'values:', 'that', 'you', 'work', 'hard', 'for', 'what', 'you', 'want', 'in', 'life;', 'that', 'your', 'word', 'is', 'your', 'bond', 'and', 'you', 'do', 'what', 'you', 'say', \"you're\", 'going', 'to', 'do;', 'that', 'you', 'treat', 'people', 'with', 'dignity', 'and', 'respect,', 'even', 'if', 'you', \"don't\", 'know', 'them,', 'and', 'even', 'if', 'you', \"don't\", 'agree', 'with', 'them.', 'And', 'Barack', 'and', 'I', 'set', 'out', 'to', 'build', 'lives', 'guided', 'by', 'these', 'values,', 'and', 'pass', 'them', 'on', 'to', 'the', 'next', 'generation.', 'Because', 'we', 'want', 'our', 'children', 'â€”', 'and', 'all', 'children', 'in', 'this', 'nation', 'â€”', 'to', 'know', 'that', 'the', 'only', 'limit', 'to', 'the', 'height', 'of', 'your', 'achievements', 'is', 'the', 'reach', 'of', 'your', 'dreams', 'and', 'your', 'willingness', 'to', 'work', 'for', 'them.', 'And', 'as', 'our', 'friendship', 'grew,', 'and', 'I', 'learned', 'more', 'about', 'Barack,', 'he', 'introduced', 'me', 'to', 'the', 'work', \"he'd\", 'done', 'when', 'he', 'first', 'moved', 'to', 'Chicago', 'after', 'college.', 'Instead', 'of', 'heading', 'to', 'Wall', 'Street,', 'Barack', 'had', 'gone', 'to', 'work', 'in', 'neighborhoods', 'devastated', 'when', 'steel', 'plants', 'shut', 'down', 'and', 'jobs', 'dried', 'up.', 'And', \"he'd\", 'been', 'invited', 'back', 'to', 'speak', 'to', 'people', 'from', 'those', 'neighborhoods', 'about', 'how', 'to', 'rebuild', 'their', 'community.', 'The', 'people', 'gathered', 'together', 'that', 'day', 'were', 'ordinary', 'folks', 'doing', 'the', 'best', 'they', 'could', 'to', 'build', 'a', 'good', 'life.', 'They', 'were', 'parents', 'living', 'paycheck', 'to', 'paycheck;', 'grandparents', 'trying', 'to', 'get', 'by', 'on', 'a', 'fixed', 'income;', 'men', 'frustrated', 'that', 'they', \"couldn't\", 'support', 'their', 'families', 'after', 'their', 'jobs', 'disappeared.', 'Those', 'folks', \"weren't\", 'asking', 'for', 'a', 'handout', 'or', 'a', 'shortcut.', 'They', 'were', 'ready', 'to', 'work', 'â€”', 'they', 'wanted', 'to', 'contribute.', 'They', 'believed', 'â€”', 'like', 'you', 'and', 'I', 'believe', 'â€”', 'that', 'America', 'should', 'be', 'a', 'place', 'where', 'you', 'can', 'make', 'it', 'if', 'you', 'try.', 'Barack', 'stood', 'up', 'that', 'day,', 'and', 'spoke', 'words', 'that', 'have', 'stayed', 'with', 'me', 'ever', 'since.', 'He', 'talked', 'about', '\"The', 'world', 'as', 'it', 'is\"', 'and', '\"The', 'world', 'as', 'it', 'should', 'be.\"', 'And', 'he', 'said', 'that', 'all', 'too', 'often,', 'we', 'accept', 'the', 'distance', 'between', 'the', 'two,', 'and', 'settle', 'for', 'the', 'world', 'as', 'it', 'is', 'â€”', 'even', 'when', 'it', \"doesn't\", 'reflect', 'our', 'values', 'and', 'aspirations.', 'But', 'he', 'reminded', 'us', 'that', 'we', 'know', 'what', 'our', 'world', 'should', 'look', 'like.', 'We', 'know', 'what', 'fairness', 'and', 'justice', 'and', 'opportunity', 'look', 'like.', 'And', 'he', 'urged', 'us', 'to', 'believe', 'in', 'ourselves', 'â€”', 'to', 'find', 'the', 'strength', 'within', 'ourselves', 'to', 'strive', 'for', 'the', 'world', 'as', 'it', 'should', 'be.', 'And', \"isn't\", 'that', 'the', 'great', 'American', 'story?', \"It's\", 'the', 'story', 'of', 'men', 'and', 'women', 'gathered', 'in', 'churches', 'and', 'union', 'halls,', 'in', 'town', 'squares', 'and', 'high', 'school', 'gyms', 'â€”', 'people', 'who', 'stood', 'up', 'and', 'marched', 'and', 'risked', 'everything', 'they', 'had', 'â€”', 'refusing', 'to', 'settle,', 'determined', 'to', 'mold', 'our', 'future', 'into', 'the', 'shape', 'of', 'our', 'ideals.', 'It', 'is', 'because', 'of', 'their', 'will', 'and', 'determination', 'that', 'this', 'week,', 'we', 'celebrate', 'two', 'anniversaries:', 'the', '88th', 'anniversary', 'of', 'women', 'winning', 'the', 'right', 'to', 'vote,', 'and', 'the', '45th', 'anniversary', 'of', 'that', 'hot', 'summer', 'day', 'when', '[Dr.', 'Martin', 'Luther', 'King', 'Jr.]', 'lifted', 'our', 'sights', 'and', 'our', 'hearts', 'with', 'his', 'dream', 'for', 'our', 'nation.', 'I', 'stand', 'here', 'today', 'at', 'the', 'crosscurrents', 'of', 'that', 'history', 'â€”', 'knowing', 'that', 'my', 'piece', 'of', 'the', 'American', 'dream', 'is', 'a', 'blessing', 'hard', 'won', 'by', 'those', 'who', 'came', 'before', 'me.', 'All', 'of', 'them', 'driven', 'by', 'the', 'same', 'conviction', 'that', 'drove', 'my', 'dad', 'to', 'get', 'up', 'an', 'hour', 'early', 'each', 'day', 'to', 'painstakingly', 'dress', 'himself', 'for', 'work.', 'The', 'same', 'conviction', 'that', 'drives', 'the', 'men', 'and', 'women', \"I've\", 'met', 'all', 'across', 'this', 'country:', 'People', 'who', 'work', 'the', 'day', 'shift,', 'kiss', 'their', 'kids', 'goodnight,', 'and', 'head', 'out', 'for', 'the', 'night', 'shift', 'â€”', 'without', 'disappointment,', 'without', 'regret', 'â€”', 'that', 'goodnight', 'kiss', 'a', 'reminder', 'of', 'everything', \"they're\", 'working', 'for.', 'The', 'military', 'families', 'who', 'say', 'grace', 'each', 'night', 'with', 'an', 'empty', 'seat', 'at', 'the', 'table.', 'The', 'servicemen', 'and', 'women', 'who', 'love', 'this', 'country', 'so', 'much,', 'they', 'leave', 'those', 'they', 'love', 'most', 'to', 'defend', 'it.', 'The', 'young', 'people', 'across', 'America', 'serving', 'our', 'communities', 'â€”', 'teaching', 'children,', 'cleaning', 'up', 'neighborhoods,', 'caring', 'for', 'the', 'least', 'among', 'us', 'each', 'and', 'every', 'day.', 'People', 'like', 'Hillary', 'Clinton,', 'who', 'put', 'those', '18', 'million', 'cracks', 'in', 'the', 'glass', 'ceiling,', 'so', 'that', 'our', 'daughters', 'â€”', 'and', 'sons', 'â€”', 'can', 'dream', 'a', 'little', 'bigger', 'and', 'aim', 'a', 'little', 'higher.', 'People', 'like', 'Joe', 'Biden,', \"who's\", 'never', 'forgotten', 'where', 'he', 'came', 'from', 'and', 'never', 'stopped', 'fighting', 'for', 'folks', 'who', 'work', 'long', 'hours', 'and', 'face', 'long', 'odds', 'and', 'need', 'someone', 'on', 'their', 'side', 'again.', 'All', 'of', 'us', 'driven', 'by', 'a', 'simple', 'belief', 'that', 'the', 'world', 'as', 'it', 'is', 'just', \"won't\", 'do', 'â€”', 'that', 'we', 'have', 'an', 'obligation', 'to', 'fight', 'for', 'the', 'world', 'as', 'it', 'should', 'be.', 'That', 'is', 'the', 'thread', 'that', 'connects', 'our', 'hearts.', 'That', 'is', 'the', 'thread', 'that', 'runs', 'through', 'my', 'journey', 'and', \"Barack's\", 'journey', 'and', 'so', 'many', 'other', 'improbable', 'journeys', 'that', 'have', 'brought', 'us', 'here', 'tonight,', 'where', 'the', 'current', 'of', 'history', 'meets', 'this', 'new', 'tide', 'of', 'hope.', 'That', 'is', 'why', 'I', 'love', 'this', 'country.', 'And', 'in', 'my', 'own', 'life,', 'in', 'my', 'own', 'small', 'way,', \"I've\", 'tried', 'to', 'give', 'back', 'to', 'this', 'country', 'that', 'has', 'given', 'me', 'so', 'much.', \"That's\", 'why', 'I', 'left', 'a', 'job', 'at', 'a', 'law', 'firm', 'for', 'a', 'career', 'in', 'public', 'service,', 'working', 'to', 'empower', 'young', 'people', 'to', 'volunteer', 'in', 'their', 'communities.', 'Because', 'I', 'believe', 'that', 'each', 'of', 'us', 'â€”', 'no', 'matter', 'what', 'our', 'age', 'or', 'background', 'or', 'walk', 'of', 'life', 'â€”', 'each', 'of', 'us', 'has', 'something', 'to', 'contribute', 'to', 'the', 'life', 'of', 'this', 'nation.', \"It's\", 'a', 'belief', 'Barack', 'shares', 'â€”', 'a', 'belief', 'at', 'the', 'heart', 'of', 'his', \"life's\", 'work.', \"It's\", 'what', 'he', 'did', 'all', 'those', 'years', 'ago,', 'on', 'the', 'streets', 'of', 'Chicago,', 'setting', 'up', 'job', 'training', 'to', 'get', 'people', 'back', 'to', 'work', 'and', 'after-school', 'programs', 'to', 'keep', 'kids', 'safe', 'â€”', 'working', 'block', 'by', 'block', 'to', 'help', 'people', 'lift', 'up', 'their', 'families.', \"It's\", 'what', 'he', 'did', 'in', 'the', 'Illinois', 'Senate,', 'moving', 'people', 'from', 'welfare', 'to', 'jobs,', 'passing', 'tax', 'cuts', 'for', 'hard-working', 'families,', 'and', 'making', 'sure', 'women', 'get', 'equal', 'pay', 'for', 'equal', 'work.', \"It's\", 'what', \"he's\", 'done', 'in', 'the', 'United', 'States', 'Senate,', 'fighting', 'to', 'ensure', 'the', 'men', 'and', 'women', 'who', 'serve', 'this', 'country', 'are', 'welcomed', 'home', 'not', 'just', 'with', 'medals', 'and', 'parades', 'but', 'with', 'good', 'jobs', 'and', 'benefits', 'and', 'health', 'care', 'â€”', 'including', 'mental', 'health', 'care.', \"That's\", 'why', \"he's\", 'running', 'â€”', 'to', 'end', 'the', 'war', 'in', 'Iraq', 'responsibly,', 'to', 'build', 'an', 'economy', 'that', 'lifts', 'every', 'family,', 'to', 'make', 'health', 'care', 'available', 'for', 'every', 'American,', 'and', 'to', 'make', 'sure', 'every', 'child', 'in', 'this', 'nation', 'gets', 'a', 'world', 'class', 'education', 'all', 'the', 'way', 'from', 'preschool', 'to', 'college.', \"That's\", 'what', 'Barack', 'Obama', 'will', 'do', 'as', 'president', 'of', 'the', 'United', 'States', 'of', 'America.', \"He'll\", 'achieve', 'these', 'goals', 'the', 'same', 'way', 'he', 'always', 'has', 'â€”', 'by', 'bringing', 'us', 'together', 'and', 'reminding', 'us', 'how', 'much', 'we', 'share', 'and', 'how', 'alike', 'we', 'really', 'are.', 'You', 'see,', 'Barack', \"doesn't\", 'care', 'where', \"you're\", 'from,', 'or', 'what', 'your', 'background', 'is,', 'or', 'what', 'party', 'â€”', 'if', 'any', 'â€”', 'you', 'belong', 'to.', \"That's\", 'not', 'how', 'he', 'sees', 'the', 'world.', 'He', 'knows', 'that', 'thread', 'that', 'connects', 'us', 'â€”', 'our', 'belief', 'in', \"America's\", 'promise,', 'our', 'commitment', 'to', 'our', \"children's\", 'future', 'â€”', 'is', 'strong', 'enough', 'to', 'hold', 'us', 'together', 'as', 'one', 'nation', 'even', 'when', 'we', 'disagree.', 'It', 'was', 'strong', 'enough', 'to', 'bring', 'hope', 'to', 'those', 'neighborhoods', 'in', 'Chicago.', 'It', 'was', 'strong', 'enough', 'to', 'bring', 'hope', 'to', 'the', 'mother', 'he', 'met', 'worried', 'about', 'her', 'child', 'in', 'Iraq;', 'hope', 'to', 'the', 'man', \"who's\", 'unemployed,', 'but', \"can't\", 'afford', 'gas', 'to', 'find', 'a', 'job;', 'hope', 'to', 'the', 'student', 'working', 'nights', 'to', 'pay', 'for', 'her', \"sister's\", 'health', 'care,', 'sleeping', 'just', 'a', 'few', 'hours', 'a', 'day.', 'And', 'it', 'was', 'strong', 'enough', 'to', 'bring', 'hope', 'to', 'people', 'who', 'came', 'out', 'on', 'a', 'cold', 'Iowa', 'night', 'and', 'became', 'the', 'first', 'voices', 'in', 'this', 'chorus', 'for', 'change', \"that's\", 'been', 'echoed', 'by', 'millions', 'of', 'Americans', 'from', 'every', 'corner', 'of', 'this', 'nation.', 'Millions', 'of', 'Americans', 'who', 'know', 'that', 'Barack', 'understands', 'their', 'dreams;', 'that', 'Barack', 'will', 'fight', 'for', 'people', 'like', 'them;', 'and', 'that', 'Barack', 'will', 'finally', 'bring', 'the', 'change', 'we', 'need.', 'And', 'in', 'the', 'end,', 'after', 'all', \"that's\", 'happened', 'these', 'past', '19', 'months,', 'the', 'Barack', 'Obama', 'I', 'know', 'today', 'is', 'the', 'same', 'man', 'I', 'fell', 'in', 'love', 'with', '19', 'years', 'ago.', \"He's\", 'the', 'same', 'man', 'who', 'drove', 'me', 'and', 'our', 'new', 'baby', 'daughter', 'home', 'from', 'the', 'hospital', '10', 'years', 'ago', 'this', 'summer,', 'inching', 'along', 'at', 'a', \"snail's\", 'pace,', 'peering', 'anxiously', 'at', 'us', 'in', 'the', 'rearview', 'mirror,', 'feeling', 'the', 'whole', 'weight', 'of', 'her', 'future', 'in', 'his', 'hands,', 'determined', 'to', 'give', 'her', 'everything', \"he'd\", 'struggled', 'so', 'hard', 'for', 'himself,', 'determined', 'to', 'give', 'her', 'what', 'he', 'never', 'had:', 'the', 'affirming', 'embrace', 'of', 'a', \"father's\", 'love.', 'And', 'as', 'I', 'tuck', 'that', 'little', 'girl', 'and', 'her', 'little', 'sister', 'into', 'bed', 'at', 'night,', 'I', 'think', 'about', 'how', 'one', 'day,', \"they'll\", 'have', 'families', 'of', 'their', 'own.', 'And', 'one', 'day,', 'they', 'â€”', 'and', 'your', 'sons', 'and', 'daughters', 'â€”', 'will', 'tell', 'their', 'own', 'children', 'about', 'what', 'we', 'did', 'together', 'in', 'this', 'election.', \"They'll\", 'tell', 'them', 'how', 'this', 'time,', 'we', 'listened', 'to', 'our', 'hopes,', 'instead', 'of', 'our', 'fears.', 'How', 'this', 'time,', 'we', 'decided', 'to', 'stop', 'doubting', 'and', 'to', 'start', 'dreaming.', 'How', 'this', 'time,', 'in', 'this', 'great', 'country', 'â€”', 'where', 'a', 'girl', 'from', 'the', 'South', 'Side', 'of', 'Chicago', 'can', 'go', 'to', 'college', 'and', 'law', 'school,', 'and', 'the', 'son', 'of', 'a', 'single', 'mother', 'from', 'Hawaii', 'can', 'go', 'all', 'the', 'way', 'to', 'the', 'White', 'House', 'â€“', 'we', 'committed', 'ourselves', 'to', 'building', 'the', 'world', 'as', 'it', 'should', 'be.', 'So', 'tonight,', 'in', 'honor', 'of', 'my', \"father's\", 'memory', 'and', 'my', \"daughters'\", 'future', 'â€”', 'out', 'of', 'gratitude', 'to', 'those', 'whose', 'triumphs', 'we', 'mark', 'this', 'week,', 'and', 'those', 'whose', 'everyday', 'sacrifices', 'have', 'brought', 'us', 'to', 'this', 'moment', 'â€”', 'let', 'us', 'devote', 'ourselves', 'to', 'finishing', 'their', 'work;', 'let', 'us', 'work', 'together', 'to', 'fulfill', 'their', 'hopes;', 'and', 'let', 'us', 'stand', 'together', 'to', 'elect', 'Barack', 'Obama', 'president', 'of', 'the', 'United', 'States', 'of', 'America.', 'Thank', 'you,', 'God', 'bless', 'you,', 'and', 'God', 'bless', 'America.']\n"
     ]
    }
   ],
   "source": [
    "#displaying within list\n",
    "list1=[]\n",
    "with open(\"obamawife.txt\", 'r') as f:\n",
    "    list1=f.read().split()\n",
    "print(list1)"
   ]
  },
  {
   "cell_type": "code",
   "execution_count": 11,
   "id": "b5be1c85",
   "metadata": {},
   "outputs": [],
   "source": [
    "#writing into a file\n",
    "item= ['Table ', 'Chair ', 'Mirror ', 'Curtain ', 'Almirah ']\n",
    "file = open('item.txt','w')\n",
    "file.writelines(item)\n",
    "file.close()\n"
   ]
  },
  {
   "cell_type": "code",
   "execution_count": 10,
   "id": "a7aa597d",
   "metadata": {},
   "outputs": [
    {
     "ename": "TypeError",
     "evalue": "'list' object cannot be interpreted as an integer",
     "output_type": "error",
     "traceback": [
      "\u001b[1;31m---------------------------------------------------------------------------\u001b[0m",
      "\u001b[1;31mTypeError\u001b[0m                                 Traceback (most recent call last)",
      "\u001b[1;32m~\\AppData\\Local\\Temp/ipykernel_8800/2882139976.py\u001b[0m in \u001b[0;36m<module>\u001b[1;34m\u001b[0m\n\u001b[0;32m      1\u001b[0m \u001b[0mfile\u001b[0m \u001b[1;33m=\u001b[0m \u001b[0mopen\u001b[0m\u001b[1;33m(\u001b[0m\u001b[1;34m'item.txt'\u001b[0m\u001b[1;33m,\u001b[0m\u001b[1;34m'r'\u001b[0m\u001b[1;33m)\u001b[0m\u001b[1;33m\u001b[0m\u001b[1;33m\u001b[0m\u001b[0m\n\u001b[1;32m----> 2\u001b[1;33m \u001b[0mfile\u001b[0m\u001b[1;33m.\u001b[0m\u001b[0mreadline\u001b[0m\u001b[1;33m(\u001b[0m\u001b[0mitem\u001b[0m\u001b[1;33m)\u001b[0m\u001b[1;33m\u001b[0m\u001b[1;33m\u001b[0m\u001b[0m\n\u001b[0m\u001b[0;32m      3\u001b[0m \u001b[0mfile\u001b[0m\u001b[1;33m.\u001b[0m\u001b[0mclose\u001b[0m\u001b[1;33m(\u001b[0m\u001b[1;33m)\u001b[0m\u001b[1;33m\u001b[0m\u001b[1;33m\u001b[0m\u001b[0m\n",
      "\u001b[1;31mTypeError\u001b[0m: 'list' object cannot be interpreted as an integer"
     ]
    }
   ],
   "source": []
  },
  {
   "cell_type": "code",
   "execution_count": null,
   "id": "c83ef8b3",
   "metadata": {},
   "outputs": [],
   "source": []
  }
 ],
 "metadata": {
  "kernelspec": {
   "display_name": "Python 3 (ipykernel)",
   "language": "python",
   "name": "python3"
  },
  "language_info": {
   "codemirror_mode": {
    "name": "ipython",
    "version": 3
   },
   "file_extension": ".py",
   "mimetype": "text/x-python",
   "name": "python",
   "nbconvert_exporter": "python",
   "pygments_lexer": "ipython3",
   "version": "3.9.7"
  }
 },
 "nbformat": 4,
 "nbformat_minor": 5
}

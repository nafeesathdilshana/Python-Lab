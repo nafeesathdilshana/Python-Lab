{
 "cells": [
  {
   "cell_type": "code",
   "execution_count": 5,
   "id": "3d6ea909",
   "metadata": {},
   "outputs": [
    {
     "name": "stdout",
     "output_type": "stream",
     "text": [
      "The given list is: [2, 1, 8, 7, 3, 0, 10]\n",
      "The sorted list is: [0, 1, 2, 3, 7, 8, 10]\n",
      "The second largest number in the given list is: 8\n"
     ]
    }
   ],
   "source": [
    "list1 = [2, 1, 8, 7, 3, 0,10]\n",
    "print('The given list is:', list1)\n",
    "list2 = []\n",
    "list1.sort()\n",
    "list2=list1\n",
    "print('The sorted list is:', list2)\n",
    "print('The second largest number in the given list is:', list2[-2])"
   ]
  },
  {
   "cell_type": "code",
   "execution_count": 7,
   "id": "5fb8685c",
   "metadata": {},
   "outputs": [
    {
     "name": "stdout",
     "output_type": "stream",
     "text": [
      "Enter first number:1\n",
      "Enter second number:5\n",
      "Enter third number:6\n",
      "The solution are (-3+0j) and (-2+0j)\n"
     ]
    }
   ],
   "source": []
  },
  {
   "cell_type": "code",
   "execution_count": 8,
   "id": "e9effe35",
   "metadata": {},
   "outputs": [
    {
     "name": "stdout",
     "output_type": "stream",
     "text": [
      "Enter first number:1\n",
      "Enter second number:5\n",
      "Enter third number:6\n",
      "The solution are (-3+0j) (-2+0j)\n"
     ]
    }
   ],
   "source": [
    "import cmath\n",
    "a=int(input(\"Enter first number:\"))\n",
    "b=int(input(\"Enter second number:\"))\n",
    "c=int(input(\"Enter third number:\"))\n",
    "d = (b**2) - (4*a*c)\n",
    "sol1 = (-b-cmath.sqrt(d))/(2*a)\n",
    "sol2 = (-b+cmath.sqrt(d))/(2*a)\n",
    "print('The solution are',sol1,sol2)"
   ]
  },
  {
   "cell_type": "code",
   "execution_count": 20,
   "id": "3449d54e",
   "metadata": {},
   "outputs": [
    {
     "name": "stdout",
     "output_type": "stream",
     "text": [
      "Enter first number:2\n",
      "Enter second number:4\n",
      "Enter third number:2\n",
      "This equation has one solutions:  -4.0\n"
     ]
    }
   ],
   "source": [
    "import math\n",
    "a=int(input(\"Enter first number:\"))\n",
    "b=int(input(\"Enter second number:\"))\n",
    "c=int(input(\"Enter third number:\"))\n",
    "d = (b**2)-(4*a*c)\n",
    "if d < 0:\n",
    "    print (\"This equation has no real solution\")\n",
    "elif d == 0:\n",
    "    x = (-b+math.sqrt(d))/2*a\n",
    "    print (\"This equation has one solutions: \", x)\n",
    "else:\n",
    "    x1 = (-b+math.sqrt(d))/2*a\n",
    "    x2 = (-b-math.sqrt(d))/2*a\n",
    "    print (\"This equation has two solutions:\", x1,\"and\",x2)"
   ]
  },
  {
   "cell_type": "code",
   "execution_count": null,
   "id": "20729709",
   "metadata": {},
   "outputs": [],
   "source": []
  }
 ],
 "metadata": {
  "kernelspec": {
   "display_name": "Python 3 (ipykernel)",
   "language": "python",
   "name": "python3"
  },
  "language_info": {
   "codemirror_mode": {
    "name": "ipython",
    "version": 3
   },
   "file_extension": ".py",
   "mimetype": "text/x-python",
   "name": "python",
   "nbconvert_exporter": "python",
   "pygments_lexer": "ipython3",
   "version": "3.9.7"
  }
 },
 "nbformat": 4,
 "nbformat_minor": 5
}

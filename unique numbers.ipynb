{
 "cells": [
  {
   "cell_type": "code",
   "execution_count": 1,
   "id": "0500e054",
   "metadata": {},
   "outputs": [
    {
     "name": "stdout",
     "output_type": "stream",
     "text": [
      "list[{1, 2, 3, 5, 6}]\n"
     ]
    }
   ],
   "source": [
    "numbers=[1,2,5,6,2,1,3]\n",
    "uni_numbers=list[set(numbers)]\n",
    "print(uni_numbers)"
   ]
  },
  {
   "cell_type": "code",
   "execution_count": 7,
   "id": "2680f2de",
   "metadata": {
    "scrolled": true
   },
   "outputs": [
    {
     "name": "stdout",
     "output_type": "stream",
     "text": [
      "yes,five is less than six 5 6\n"
     ]
    }
   ],
   "source": [
    "num1=5\n",
    "num2=6\n",
    "if (num1==num2):\n",
    "    print(\"its not true\")\n",
    "elif (num1<num2):\n",
    "    print(\"yes,five is less than six\",num1,num2)"
   ]
  },
  {
   "cell_type": "code",
   "execution_count": 8,
   "id": "853ef009",
   "metadata": {},
   "outputs": [
    {
     "name": "stdout",
     "output_type": "stream",
     "text": [
      "enter a number:4\n",
      "this is even number\n"
     ]
    }
   ],
   "source": [
    "num=int(input(\"enter a number:\"))\n",
    "if (num%2)==0:\n",
    "    print(\"this is even number\")\n",
    "else:\n",
    "    print(\"this is odd number\")"
   ]
  },
  {
   "cell_type": "code",
   "execution_count": 31,
   "id": "4628b70f",
   "metadata": {},
   "outputs": [
    {
     "name": "stdout",
     "output_type": "stream",
     "text": [
      "banana\n",
      "apple\n",
      "cherry\n"
     ]
    }
   ],
   "source": [
    "fruits=[\"banana\",\"apple\",\"cherry\"]\n",
    "for a in fruits:\n",
    "    print(a)"
   ]
  },
  {
   "cell_type": "code",
   "execution_count": 34,
   "id": "23da840d",
   "metadata": {},
   "outputs": [
    {
     "name": "stdout",
     "output_type": "stream",
     "text": [
      "this is even [10, 4, 66]\n",
      "this is odd [21, 45, 93]\n"
     ]
    }
   ],
   "source": [
    "list1 = [10, 21, 4, 45, 66, 93]\n",
    "odd=[]\n",
    "even=[]\n",
    "for num in list1:\n",
    "    if num % 2 == 0:\n",
    "        even.append(num)\n",
    "    elif num%2!=0:\n",
    "        odd.append(num)\n",
    "print(\"this is even\",even)\n",
    "print(\"this is odd\",odd)\n",
    "\n",
    "    "
   ]
  },
  {
   "cell_type": "code",
   "execution_count": 46,
   "id": "f347d6b5",
   "metadata": {},
   "outputs": [
    {
     "name": "stdout",
     "output_type": "stream",
     "text": [
      "enter a number:12\n",
      "12 is not a prime number\n"
     ]
    }
   ],
   "source": [
    "num =int(input(\"enter a number:\"))\n",
    "if num > 1:\n",
    "    for i in range(2, num//2):\n",
    "        if (num % i) == 0:\n",
    "            print(num, \"is not a prime number\")\n",
    "            break\n",
    "        else:\n",
    "            print(num, \"is a prime number\")\n",
    "else:\n",
    "    print(num, \"is not a prime number\")"
   ]
  },
  {
   "cell_type": "code",
   "execution_count": null,
   "id": "6e52763f",
   "metadata": {},
   "outputs": [],
   "source": [
    "p=\"helloworld\"\n"
   ]
  }
 ],
 "metadata": {
  "kernelspec": {
   "display_name": "Python 3 (ipykernel)",
   "language": "python",
   "name": "python3"
  },
  "language_info": {
   "codemirror_mode": {
    "name": "ipython",
    "version": 3
   },
   "file_extension": ".py",
   "mimetype": "text/x-python",
   "name": "python",
   "nbconvert_exporter": "python",
   "pygments_lexer": "ipython3",
   "version": "3.9.7"
  }
 },
 "nbformat": 4,
 "nbformat_minor": 5
}

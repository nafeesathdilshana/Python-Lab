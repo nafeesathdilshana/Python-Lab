{
 "cells": [
  {
   "cell_type": "code",
   "execution_count": 3,
   "id": "6bf56a60",
   "metadata": {},
   "outputs": [
    {
     "name": "stdout",
     "output_type": "stream",
     "text": [
      "Calculate Shape Area\n",
      "Enter the name of shape whose area you want to find: rectangle\n",
      "enter the length:2\n",
      "enter the breadth: 3\n",
      "the area of rectangle 6.0\n"
     ]
    }
   ],
   "source": [
    "def calculate_area(name):\n",
    "    if name == \"rectangle\":\n",
    "        l=float(input(\"enter the length:\"))\n",
    "        b=float(input(\"enter the breadth: \"))\n",
    "        rec_area=l*b\n",
    "        print(\"the area of rectangle\",rec_area)\n",
    "    elif name == \"triangle\":\n",
    "        b=float(input(\"enter the base:\"))\n",
    "        h=float(input(\"enter the height:\"))\n",
    "        tri_area=0.5*b*h\n",
    "        print(\"The area of triangle is:\",tri_area)\n",
    "    elif name == \"circle\":\n",
    "        r=float(input(\"enter the radius:\"))\n",
    "        c_area=3.14**r\n",
    "        print(\"The area of circle is:\",c_area)\n",
    "    else:\n",
    "        print(\"Sorry! This shape is not available\")\n",
    "if __name__ == \"__main__\" :\n",
    "    print(\"Calculate Shape Area\")\n",
    "    shape_name = input(\"Enter the name of shape whose area you want to find: \")\n",
    "    calculate_area(shape_name)\n"
   ]
  },
  {
   "cell_type": "code",
   "execution_count": 6,
   "id": "57f38689",
   "metadata": {},
   "outputs": [
    {
     "name": "stdout",
     "output_type": "stream",
     "text": [
      "Calculate Shape perimeter\n",
      "Enter the name of shape name: circle\n",
      "enter the radius:2\n",
      "The area of circle is: 9.8596\n"
     ]
    }
   ],
   "source": [
    "def calculate_perimeter(name):\n",
    "    if name == \"rectangle\":\n",
    "        l=float(input(\"enter the length:\"))\n",
    "        b=float(input(\"enter the breadth: \"))\n",
    "        rec_peri=2*(l+b)\n",
    "        print(\"the perimetere of rectangle:\",rec_peri)\n",
    "    elif name == \"triangle\":\n",
    "        a=float(input(\"enter the a value:\"))\n",
    "        b=float(input(\"enter the b value:\"))\n",
    "        c=float(input(\"enter the c value:\"))\n",
    "        tri_peri=a*b*c\n",
    "        print(\"the perimeter of triangle:\",tri_peri)\n",
    "    elif name == \"circle\":\n",
    "        r=float(input(\"enter a the value:\"))\n",
    "        circ_peri=2*3.14*r\n",
    "        print(\"the perimeter of circle:\",circ_peri)\n",
    "    else:\n",
    "        print(\"Sorry! This shape is not available\")\n",
    "if __name__ == \"__main__\" :\n",
    "    print(\"Calculate Shape perimeter\")\n",
    "    shape_name = input(\"Enter the name of shape name: \")\n",
    "    calculate_area(shape_name)"
   ]
  },
  {
   "cell_type": "code",
   "execution_count": null,
   "id": "beb0b17c",
   "metadata": {},
   "outputs": [],
   "source": []
  }
 ],
 "metadata": {
  "kernelspec": {
   "display_name": "Python 3 (ipykernel)",
   "language": "python",
   "name": "python3"
  },
  "language_info": {
   "codemirror_mode": {
    "name": "ipython",
    "version": 3
   },
   "file_extension": ".py",
   "mimetype": "text/x-python",
   "name": "python",
   "nbconvert_exporter": "python",
   "pygments_lexer": "ipython3",
   "version": "3.9.7"
  }
 },
 "nbformat": 4,
 "nbformat_minor": 5
}
